{
 "cells": [
  {
   "cell_type": "code",
   "execution_count": null,
   "metadata": {},
   "outputs": [],
   "source": [
    "import numpy as np\n",
    "import matplotlib.pyplot as plt\n",
    "\n",
    "# Load the depth image data from the .npy file\n",
    "depth_image_data = np.load(\"/home/pairlab/pyKinectAzure/t/t/240506_163236/1714984367252941631.npy\")\n",
    "\n",
    "# Plot the depth image\n",
    "plt.imshow(depth_image_data, cmap='gray')\n",
    "plt.colorbar()  # Add color bar to show depth values\n",
    "plt.title('Depth Image')\n",
    "plt.xlabel('Width (pixels)')\n",
    "plt.ylabel('Height (pixels)')\n",
    "plt.show()"
   ]
  }
 ],
 "metadata": {
  "language_info": {
   "name": "python"
  }
 },
 "nbformat": 4,
 "nbformat_minor": 2
}
